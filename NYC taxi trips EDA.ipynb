{
  "metadata": {
    "kernelspec": {
      "name": "python",
      "display_name": "Python (Pyodide)",
      "language": "python"
    },
    "language_info": {
      "codemirror_mode": {
        "name": "python",
        "version": 3
      },
      "file_extension": ".py",
      "mimetype": "text/x-python",
      "name": "python",
      "nbconvert_exporter": "python",
      "pygments_lexer": "ipython3",
      "version": "3.8"
    }
  },
  "nbformat_minor": 4,
  "nbformat": 4,
  "cells": [
    {
      "cell_type": "markdown",
      "source": "# NYC Taxi and Limousine Commission (TLC) Trips Exploratory Data Analysis\n\nNidhi Bendre",
      "metadata": {}
    },
    {
      "cell_type": "markdown",
      "source": "The NYC Taxi and Limousine Commission (TLC) routinely collects trip data from all licensed cabs in NY. This data can be used in the future to understand how New Yorkers use these taxis. \n\n**Data & Documentation**\n\n- **Data Source:** https://d37ci6vzurychx.cloudfront.net/trip-data/green_tripdata_2020-02.parquet\n- **Data Dictionary:** [Green Trips Data Dictionary](https://www1.nyc.gov/assets/tlc/downloads/pdf/data_dictionary_trip_records_green.pdf).\n\nThe TLC trip record data and a description of the initiative can be found at the following link: https://www1.nyc.gov/site/tlc/about/tlc-trip-record-data.page",
      "metadata": {}
    },
    {
      "cell_type": "code",
      "source": "#run this cell to install the fast parquet library\n!pip install fastparquet",
      "metadata": {},
      "outputs": [
        {
          "name": "stdout",
          "output_type": "stream",
          "text": [
            "Requirement already satisfied: fastparquet in /Users/nidhibendre/anaconda3/lib/python3.11/site-packages (2023.8.0)\r\n",
            "Requirement already satisfied: pandas>=1.5.0 in /Users/nidhibendre/anaconda3/lib/python3.11/site-packages (from fastparquet) (1.5.3)\r\n",
            "Requirement already satisfied: numpy>=1.20.3 in /Users/nidhibendre/anaconda3/lib/python3.11/site-packages (from fastparquet) (1.24.3)\r\n",
            "Requirement already satisfied: cramjam>=2.3 in /Users/nidhibendre/anaconda3/lib/python3.11/site-packages (from fastparquet) (2.7.0)\r\n",
            "Requirement already satisfied: fsspec in /Users/nidhibendre/anaconda3/lib/python3.11/site-packages (from fastparquet) (2023.4.0)\r\n",
            "Requirement already satisfied: packaging in /Users/nidhibendre/anaconda3/lib/python3.11/site-packages (from fastparquet) (23.0)\r\n",
            "Requirement already satisfied: python-dateutil>=2.8.1 in /Users/nidhibendre/anaconda3/lib/python3.11/site-packages (from pandas>=1.5.0->fastparquet) (2.8.2)\r\n",
            "Requirement already satisfied: pytz>=2020.1 in /Users/nidhibendre/anaconda3/lib/python3.11/site-packages (from pandas>=1.5.0->fastparquet) (2022.7)\r\n",
            "Requirement already satisfied: six>=1.5 in /Users/nidhibendre/anaconda3/lib/python3.11/site-packages (from python-dateutil>=2.8.1->pandas>=1.5.0->fastparquet) (1.16.0)\r\n"
          ]
        }
      ],
      "execution_count": 1
    },
    {
      "cell_type": "code",
      "source": "#import libraries\nimport pandas as pd",
      "metadata": {},
      "outputs": [],
      "execution_count": 2
    },
    {
      "cell_type": "markdown",
      "source": "## 1. Load the data",
      "metadata": {}
    },
    {
      "cell_type": "code",
      "source": "tripdata_df = pd.read_parquet(path = 'https://d37ci6vzurychx.cloudfront.net/trip-data/green_tripdata_2020-02.parquet', #provide the URL to the data source\n                      engine = 'fastparquet')\n\ntripdata_df.head()",
      "metadata": {},
      "outputs": [
        {
          "data": {
            "text/html": [
              "<div>\n",
              "<style scoped>\n",
              "    .dataframe tbody tr th:only-of-type {\n",
              "        vertical-align: middle;\n",
              "    }\n",
              "\n",
              "    .dataframe tbody tr th {\n",
              "        vertical-align: top;\n",
              "    }\n",
              "\n",
              "    .dataframe thead th {\n",
              "        text-align: right;\n",
              "    }\n",
              "</style>\n",
              "<table border=\"1\" class=\"dataframe\">\n",
              "  <thead>\n",
              "    <tr style=\"text-align: right;\">\n",
              "      <th></th>\n",
              "      <th>VendorID</th>\n",
              "      <th>lpep_pickup_datetime</th>\n",
              "      <th>lpep_dropoff_datetime</th>\n",
              "      <th>store_and_fwd_flag</th>\n",
              "      <th>RatecodeID</th>\n",
              "      <th>PULocationID</th>\n",
              "      <th>DOLocationID</th>\n",
              "      <th>passenger_count</th>\n",
              "      <th>trip_distance</th>\n",
              "      <th>fare_amount</th>\n",
              "      <th>extra</th>\n",
              "      <th>mta_tax</th>\n",
              "      <th>tip_amount</th>\n",
              "      <th>tolls_amount</th>\n",
              "      <th>ehail_fee</th>\n",
              "      <th>improvement_surcharge</th>\n",
              "      <th>total_amount</th>\n",
              "      <th>payment_type</th>\n",
              "      <th>trip_type</th>\n",
              "      <th>congestion_surcharge</th>\n",
              "    </tr>\n",
              "  </thead>\n",
              "  <tbody>\n",
              "    <tr>\n",
              "      <th>0</th>\n",
              "      <td>2</td>\n",
              "      <td>2020-02-01 00:10:25</td>\n",
              "      <td>2020-02-01 00:14:34</td>\n",
              "      <td>N</td>\n",
              "      <td>1.0</td>\n",
              "      <td>74</td>\n",
              "      <td>41</td>\n",
              "      <td>1.0</td>\n",
              "      <td>0.76</td>\n",
              "      <td>4.5</td>\n",
              "      <td>0.5</td>\n",
              "      <td>0.5</td>\n",
              "      <td>0.00</td>\n",
              "      <td>0.0</td>\n",
              "      <td>NaN</td>\n",
              "      <td>0.3</td>\n",
              "      <td>5.80</td>\n",
              "      <td>2.0</td>\n",
              "      <td>1.0</td>\n",
              "      <td>0.0</td>\n",
              "    </tr>\n",
              "    <tr>\n",
              "      <th>1</th>\n",
              "      <td>2</td>\n",
              "      <td>2020-02-01 00:16:59</td>\n",
              "      <td>2020-02-01 00:21:35</td>\n",
              "      <td>N</td>\n",
              "      <td>1.0</td>\n",
              "      <td>74</td>\n",
              "      <td>74</td>\n",
              "      <td>1.0</td>\n",
              "      <td>0.72</td>\n",
              "      <td>5.0</td>\n",
              "      <td>0.5</td>\n",
              "      <td>0.5</td>\n",
              "      <td>0.00</td>\n",
              "      <td>0.0</td>\n",
              "      <td>NaN</td>\n",
              "      <td>0.3</td>\n",
              "      <td>6.30</td>\n",
              "      <td>1.0</td>\n",
              "      <td>1.0</td>\n",
              "      <td>0.0</td>\n",
              "    </tr>\n",
              "    <tr>\n",
              "      <th>2</th>\n",
              "      <td>2</td>\n",
              "      <td>2020-02-01 00:19:31</td>\n",
              "      <td>2020-02-01 00:25:29</td>\n",
              "      <td>N</td>\n",
              "      <td>1.0</td>\n",
              "      <td>223</td>\n",
              "      <td>7</td>\n",
              "      <td>1.0</td>\n",
              "      <td>0.89</td>\n",
              "      <td>6.0</td>\n",
              "      <td>0.5</td>\n",
              "      <td>0.5</td>\n",
              "      <td>1.82</td>\n",
              "      <td>0.0</td>\n",
              "      <td>NaN</td>\n",
              "      <td>0.3</td>\n",
              "      <td>9.12</td>\n",
              "      <td>1.0</td>\n",
              "      <td>1.0</td>\n",
              "      <td>0.0</td>\n",
              "    </tr>\n",
              "    <tr>\n",
              "      <th>3</th>\n",
              "      <td>2</td>\n",
              "      <td>2020-02-01 00:43:52</td>\n",
              "      <td>2020-02-01 00:48:58</td>\n",
              "      <td>N</td>\n",
              "      <td>1.0</td>\n",
              "      <td>145</td>\n",
              "      <td>145</td>\n",
              "      <td>1.0</td>\n",
              "      <td>1.12</td>\n",
              "      <td>6.0</td>\n",
              "      <td>0.5</td>\n",
              "      <td>0.5</td>\n",
              "      <td>0.00</td>\n",
              "      <td>0.0</td>\n",
              "      <td>NaN</td>\n",
              "      <td>0.3</td>\n",
              "      <td>7.30</td>\n",
              "      <td>2.0</td>\n",
              "      <td>1.0</td>\n",
              "      <td>0.0</td>\n",
              "    </tr>\n",
              "    <tr>\n",
              "      <th>4</th>\n",
              "      <td>2</td>\n",
              "      <td>2020-02-01 00:32:53</td>\n",
              "      <td>2020-02-01 00:35:19</td>\n",
              "      <td>N</td>\n",
              "      <td>1.0</td>\n",
              "      <td>166</td>\n",
              "      <td>166</td>\n",
              "      <td>1.0</td>\n",
              "      <td>0.65</td>\n",
              "      <td>4.0</td>\n",
              "      <td>0.5</td>\n",
              "      <td>0.5</td>\n",
              "      <td>1.06</td>\n",
              "      <td>0.0</td>\n",
              "      <td>NaN</td>\n",
              "      <td>0.3</td>\n",
              "      <td>6.36</td>\n",
              "      <td>1.0</td>\n",
              "      <td>1.0</td>\n",
              "      <td>0.0</td>\n",
              "    </tr>\n",
              "  </tbody>\n",
              "</table>\n",
              "</div>"
            ],
            "text/plain": [
              "   VendorID lpep_pickup_datetime lpep_dropoff_datetime store_and_fwd_flag  \\\n",
              "0         2  2020-02-01 00:10:25   2020-02-01 00:14:34                  N   \n",
              "1         2  2020-02-01 00:16:59   2020-02-01 00:21:35                  N   \n",
              "2         2  2020-02-01 00:19:31   2020-02-01 00:25:29                  N   \n",
              "3         2  2020-02-01 00:43:52   2020-02-01 00:48:58                  N   \n",
              "4         2  2020-02-01 00:32:53   2020-02-01 00:35:19                  N   \n",
              "\n",
              "   RatecodeID  PULocationID  DOLocationID  passenger_count  trip_distance  \\\n",
              "0         1.0            74            41              1.0           0.76   \n",
              "1         1.0            74            74              1.0           0.72   \n",
              "2         1.0           223             7              1.0           0.89   \n",
              "3         1.0           145           145              1.0           1.12   \n",
              "4         1.0           166           166              1.0           0.65   \n",
              "\n",
              "   fare_amount  extra  mta_tax  tip_amount  tolls_amount  ehail_fee  \\\n",
              "0          4.5    0.5      0.5        0.00           0.0        NaN   \n",
              "1          5.0    0.5      0.5        0.00           0.0        NaN   \n",
              "2          6.0    0.5      0.5        1.82           0.0        NaN   \n",
              "3          6.0    0.5      0.5        0.00           0.0        NaN   \n",
              "4          4.0    0.5      0.5        1.06           0.0        NaN   \n",
              "\n",
              "   improvement_surcharge  total_amount  payment_type  trip_type  \\\n",
              "0                    0.3          5.80           2.0        1.0   \n",
              "1                    0.3          6.30           1.0        1.0   \n",
              "2                    0.3          9.12           1.0        1.0   \n",
              "3                    0.3          7.30           2.0        1.0   \n",
              "4                    0.3          6.36           1.0        1.0   \n",
              "\n",
              "   congestion_surcharge  \n",
              "0                   0.0  \n",
              "1                   0.0  \n",
              "2                   0.0  \n",
              "3                   0.0  \n",
              "4                   0.0  "
            ]
          },
          "execution_count": 3,
          "metadata": {},
          "output_type": "execute_result"
        }
      ],
      "execution_count": 3
    },
    {
      "cell_type": "markdown",
      "source": "## 2. Inspect the Data",
      "metadata": {}
    },
    {
      "cell_type": "code",
      "source": "# use shape to get dimensions\n# use info() to check variable types\ntripdata_df.shape, tripdata_df.info()",
      "metadata": {},
      "outputs": [
        {
          "name": "stdout",
          "output_type": "stream",
          "text": [
            "<class 'pandas.core.frame.DataFrame'>\n",
            "RangeIndex: 398632 entries, 0 to 398631\n",
            "Data columns (total 20 columns):\n",
            " #   Column                 Non-Null Count   Dtype         \n",
            "---  ------                 --------------   -----         \n",
            " 0   VendorID               398632 non-null  int64         \n",
            " 1   lpep_pickup_datetime   398632 non-null  datetime64[ns]\n",
            " 2   lpep_dropoff_datetime  398632 non-null  datetime64[ns]\n",
            " 3   store_and_fwd_flag     317739 non-null  object        \n",
            " 4   RatecodeID             317739 non-null  float64       \n",
            " 5   PULocationID           398632 non-null  int64         \n",
            " 6   DOLocationID           398632 non-null  int64         \n",
            " 7   passenger_count        317739 non-null  float64       \n",
            " 8   trip_distance          398632 non-null  float64       \n",
            " 9   fare_amount            398632 non-null  float64       \n",
            " 10  extra                  398632 non-null  float64       \n",
            " 11  mta_tax                398632 non-null  float64       \n",
            " 12  tip_amount             398632 non-null  float64       \n",
            " 13  tolls_amount           398632 non-null  float64       \n",
            " 14  ehail_fee              0 non-null       float64       \n",
            " 15  improvement_surcharge  398632 non-null  float64       \n",
            " 16  total_amount           398632 non-null  float64       \n",
            " 17  payment_type           317739 non-null  float64       \n",
            " 18  trip_type              317738 non-null  float64       \n",
            " 19  congestion_surcharge   317739 non-null  float64       \n",
            "dtypes: datetime64[ns](2), float64(14), int64(3), object(1)\n",
            "memory usage: 60.8+ MB\n"
          ]
        },
        {
          "data": {
            "text/plain": [
              "((398632, 20), None)"
            ]
          },
          "execution_count": 4,
          "metadata": {},
          "output_type": "execute_result"
        }
      ],
      "execution_count": 4
    },
    {
      "cell_type": "markdown",
      "source": "The data has 20 columns and 398632 observations.\nFor the data types, all variables have suitable data types (time columns are datetime64 and other quantitative data is represented as ints or floats) except the store_and_fwd_flag variable which is an object when it should be a string as it contains \"yes\" or \"no\" values. ",
      "metadata": {}
    },
    {
      "cell_type": "markdown",
      "source": "## 3. Missing Values",
      "metadata": {}
    },
    {
      "cell_type": "code",
      "source": "# use isnull() and sum() to see all null values across all columns\ntripdata_df.isnull().sum()",
      "metadata": {},
      "outputs": [
        {
          "data": {
            "text/plain": [
              "VendorID                      0\n",
              "lpep_pickup_datetime          0\n",
              "lpep_dropoff_datetime         0\n",
              "store_and_fwd_flag        80893\n",
              "RatecodeID                80893\n",
              "PULocationID                  0\n",
              "DOLocationID                  0\n",
              "passenger_count           80893\n",
              "trip_distance                 0\n",
              "fare_amount                   0\n",
              "extra                         0\n",
              "mta_tax                       0\n",
              "tip_amount                    0\n",
              "tolls_amount                  0\n",
              "ehail_fee                398632\n",
              "improvement_surcharge         0\n",
              "total_amount                  0\n",
              "payment_type              80893\n",
              "trip_type                 80894\n",
              "congestion_surcharge      80893\n",
              "dtype: int64"
            ]
          },
          "execution_count": 5,
          "metadata": {},
          "output_type": "execute_result"
        }
      ],
      "execution_count": 5
    },
    {
      "cell_type": "code",
      "source": "# use isnull() and axis of 1 to see null values across rows\ntripdata_df.isnull().sum(axis=1).sort_values(ascending = False)",
      "metadata": {},
      "outputs": [
        {
          "data": {
            "text/plain": [
              "398631    7\n",
              "344706    7\n",
              "344699    7\n",
              "344700    7\n",
              "344701    7\n",
              "         ..\n",
              "132875    1\n",
              "132874    1\n",
              "132873    1\n",
              "132872    1\n",
              "199316    1\n",
              "Length: 398632, dtype: int64"
            ]
          },
          "execution_count": 6,
          "metadata": {},
          "output_type": "execute_result"
        }
      ],
      "execution_count": 6
    },
    {
      "cell_type": "markdown",
      "source": "From the above information we can conclude that the values for ehail_fee column are null across the data as the null sum is equal to the number of rows in the dataframe. Because of this, the ehail_fee column can be removed as a whole. As for the other columns with null values, the null value sum are all the same which can indicate that those values are missing from the same rows. This is further supported by the null values sum across rows where we can see that some observations have 7 missing values (same number of columns with null values). So these rows can be gotten rid of as well.  ",
      "metadata": {}
    },
    {
      "cell_type": "markdown",
      "source": "## 4. Types of Data",
      "metadata": {}
    },
    {
      "cell_type": "markdown",
      "source": "There is categorical data in this dataframe. \n\nOne variable that is categorical is RatecodeID which is the final rate code in effect at the end of the trip. The type of this variable is integer, but each number represents a separate category: 1= Standard rate, 2=JFK, 3=Newark, 4=Nassau or Westchester, 5=Negotiated fare, and 6=Group ride. RatecodeID is nominal data. \n\nAnother categorical variable is Store_and_fwd_flag that indicates whether the trip record was held in vehicle memory before sending to the vendor, aka “store and forward,” because the vehicle did not have a connection to the server. The categories for this are Y= store and forward trip and N= not a store and forward trip. Store_and_fwd_flag is nominal data.",
      "metadata": {}
    },
    {
      "cell_type": "markdown",
      "source": "## 5. Invalid Data",
      "metadata": {}
    },
    {
      "cell_type": "code",
      "source": "tripdata_df['VendorID'].value_counts(dropna=False) ",
      "metadata": {},
      "outputs": [
        {
          "data": {
            "text/plain": [
              "2    345899\n",
              "1     52704\n",
              "6        29\n",
              "Name: VendorID, dtype: int64"
            ]
          },
          "execution_count": 7,
          "metadata": {},
          "output_type": "execute_result"
        }
      ],
      "execution_count": 7
    },
    {
      "cell_type": "markdown",
      "source": "<b>Issue #1:</b> VendorID, according to the data dictionary, is supposed to have only 2 categories, 1= Creative Mobile Technologies and LLC; 2= VeriFone Inc. According to the data shown above, there seems to be some entries with a vendor ID of 6, which does not correlate to any vendor. ",
      "metadata": {}
    },
    {
      "cell_type": "code",
      "source": "tripdata_df['RatecodeID'].value_counts(dropna=False) ",
      "metadata": {},
      "outputs": [
        {
          "data": {
            "text/plain": [
              "1.0     309477\n",
              "NaN      80893\n",
              "5.0       7246\n",
              "2.0        620\n",
              "4.0        263\n",
              "3.0        130\n",
              "99.0         2\n",
              "6.0          1\n",
              "Name: RatecodeID, dtype: int64"
            ]
          },
          "execution_count": 8,
          "metadata": {},
          "output_type": "execute_result"
        }
      ],
      "execution_count": 8
    },
    {
      "cell_type": "markdown",
      "source": "<b>Issue #2:</b> RatecodeID, according to the data dictionary, is supposed to have 6 categories, 1= Standard rate, 2=JFK, 3=Newark, 4=Nassau or Westchester, 5=Negotiated fare, and 6=Group ride. According to the data shown above, there seems to be some entries with a rate code ID of 99, which does not match to any rate. ",
      "metadata": {}
    },
    {
      "cell_type": "code",
      "source": "tripdata_df['passenger_count'].value_counts(dropna=False)",
      "metadata": {},
      "outputs": [
        {
          "data": {
            "text/plain": [
              "1.0    273447\n",
              "NaN     80893\n",
              "2.0     23121\n",
              "5.0      9178\n",
              "3.0      4927\n",
              "6.0      4809\n",
              "4.0      1775\n",
              "0.0       465\n",
              "7.0         9\n",
              "8.0         8\n",
              "Name: passenger_count, dtype: int64"
            ]
          },
          "execution_count": 9,
          "metadata": {},
          "output_type": "execute_result"
        }
      ],
      "execution_count": 9
    },
    {
      "cell_type": "markdown",
      "source": "<b>Issue #3:</b> the passenger count for some trips is 0, which shouldn't count as a trip if there are no passengers. ",
      "metadata": {}
    },
    {
      "cell_type": "markdown",
      "source": "## 6. Data Preparation",
      "metadata": {}
    },
    {
      "cell_type": "code",
      "source": "# convert object type to string in store_and_fwd_flag variable\ntripdata_df['store_and_fwd_flag'] = tripdata_df['store_and_fwd_flag'].astype('string')\ntripdata_df['store_and_fwd_flag']",
      "metadata": {},
      "outputs": [
        {
          "data": {
            "text/plain": [
              "0            N\n",
              "1            N\n",
              "2            N\n",
              "3            N\n",
              "4            N\n",
              "          ... \n",
              "398627    <NA>\n",
              "398628    <NA>\n",
              "398629    <NA>\n",
              "398630    <NA>\n",
              "398631    <NA>\n",
              "Name: store_and_fwd_flag, Length: 398632, dtype: string"
            ]
          },
          "execution_count": 10,
          "metadata": {},
          "output_type": "execute_result"
        }
      ],
      "execution_count": 10
    },
    {
      "cell_type": "code",
      "source": "# remove observations with missing values\n# ehail_fee column can be dropped as all values are missing\ntripnew_df = tripdata_df.drop(columns = ['ehail_fee'])\n\n# for other rows with multiple null values, there were multiple rows with 7 missing values\n# as one of those columns is dropped, for the rest, any observations with 6 or more values can be dropped\ntripnew_df = tripnew_df[tripnew_df.isnull().sum(axis=1) < 6]\n\ntripnew_df.isnull().sum()",
      "metadata": {},
      "outputs": [
        {
          "data": {
            "text/plain": [
              "VendorID                 0\n",
              "lpep_pickup_datetime     0\n",
              "lpep_dropoff_datetime    0\n",
              "store_and_fwd_flag       0\n",
              "RatecodeID               0\n",
              "PULocationID             0\n",
              "DOLocationID             0\n",
              "passenger_count          0\n",
              "trip_distance            0\n",
              "fare_amount              0\n",
              "extra                    0\n",
              "mta_tax                  0\n",
              "tip_amount               0\n",
              "tolls_amount             0\n",
              "improvement_surcharge    0\n",
              "total_amount             0\n",
              "payment_type             0\n",
              "trip_type                1\n",
              "congestion_surcharge     0\n",
              "dtype: int64"
            ]
          },
          "execution_count": 11,
          "metadata": {},
          "output_type": "execute_result"
        }
      ],
      "execution_count": 11
    },
    {
      "cell_type": "markdown",
      "source": "When getting rid of data, first the ehail column is removed entirely as all values in this column were missing. Additionally, all rows with missing data in 6 or more columns can be dropped. Lastly, we are left with 1 null value in the trip_type column that can be inspected.",
      "metadata": {}
    },
    {
      "cell_type": "code",
      "source": "tripnew_df.loc[tripnew_df['trip_type'].isnull()]",
      "metadata": {
        "scrolled": true
      },
      "outputs": [
        {
          "data": {
            "text/html": [
              "<div>\n",
              "<style scoped>\n",
              "    .dataframe tbody tr th:only-of-type {\n",
              "        vertical-align: middle;\n",
              "    }\n",
              "\n",
              "    .dataframe tbody tr th {\n",
              "        vertical-align: top;\n",
              "    }\n",
              "\n",
              "    .dataframe thead th {\n",
              "        text-align: right;\n",
              "    }\n",
              "</style>\n",
              "<table border=\"1\" class=\"dataframe\">\n",
              "  <thead>\n",
              "    <tr style=\"text-align: right;\">\n",
              "      <th></th>\n",
              "      <th>VendorID</th>\n",
              "      <th>lpep_pickup_datetime</th>\n",
              "      <th>lpep_dropoff_datetime</th>\n",
              "      <th>store_and_fwd_flag</th>\n",
              "      <th>RatecodeID</th>\n",
              "      <th>PULocationID</th>\n",
              "      <th>DOLocationID</th>\n",
              "      <th>passenger_count</th>\n",
              "      <th>trip_distance</th>\n",
              "      <th>fare_amount</th>\n",
              "      <th>extra</th>\n",
              "      <th>mta_tax</th>\n",
              "      <th>tip_amount</th>\n",
              "      <th>tolls_amount</th>\n",
              "      <th>improvement_surcharge</th>\n",
              "      <th>total_amount</th>\n",
              "      <th>payment_type</th>\n",
              "      <th>trip_type</th>\n",
              "      <th>congestion_surcharge</th>\n",
              "    </tr>\n",
              "  </thead>\n",
              "  <tbody>\n",
              "    <tr>\n",
              "      <th>24243</th>\n",
              "      <td>1</td>\n",
              "      <td>2020-02-03 11:19:29</td>\n",
              "      <td>2020-02-03 11:19:29</td>\n",
              "      <td>N</td>\n",
              "      <td>99.0</td>\n",
              "      <td>264</td>\n",
              "      <td>264</td>\n",
              "      <td>0.0</td>\n",
              "      <td>0.0</td>\n",
              "      <td>23.0</td>\n",
              "      <td>0.0</td>\n",
              "      <td>0.0</td>\n",
              "      <td>4.7</td>\n",
              "      <td>0.0</td>\n",
              "      <td>0.3</td>\n",
              "      <td>28.0</td>\n",
              "      <td>1.0</td>\n",
              "      <td>NaN</td>\n",
              "      <td>0.0</td>\n",
              "    </tr>\n",
              "  </tbody>\n",
              "</table>\n",
              "</div>"
            ],
            "text/plain": [
              "       VendorID lpep_pickup_datetime lpep_dropoff_datetime store_and_fwd_flag  \\\n",
              "24243         1  2020-02-03 11:19:29   2020-02-03 11:19:29                  N   \n",
              "\n",
              "       RatecodeID  PULocationID  DOLocationID  passenger_count  trip_distance  \\\n",
              "24243        99.0           264           264              0.0            0.0   \n",
              "\n",
              "       fare_amount  extra  mta_tax  tip_amount  tolls_amount  \\\n",
              "24243         23.0    0.0      0.0         4.7           0.0   \n",
              "\n",
              "       improvement_surcharge  total_amount  payment_type  trip_type  \\\n",
              "24243                    0.3          28.0           1.0        NaN   \n",
              "\n",
              "       congestion_surcharge  \n",
              "24243                   0.0  "
            ]
          },
          "execution_count": 12,
          "metadata": {},
          "output_type": "execute_result"
        }
      ],
      "execution_count": 12
    },
    {
      "cell_type": "markdown",
      "source": "even though this value is none, it can be left alone for now as the RatecodeID is 99, so this row will be dropped in the next step",
      "metadata": {}
    },
    {
      "cell_type": "code",
      "source": "# remove values with vendorID of 6\n# remove values with rateID of 99\n# remove passenger_count of 0\n\nfor index, row in tripnew_df.iterrows():\n    if row['VendorID'] == 6 or row['RatecodeID'] == 99 or row['passenger_count'] == 0:\n        tripnew_df = tripnew_df.drop(index)\n\ntripnew_df['VendorID'].value_counts(dropna=False), tripnew_df['RatecodeID'].value_counts(dropna=False), tripnew_df['passenger_count'].value_counts(dropna=False)\n",
      "metadata": {},
      "outputs": [
        {
          "data": {
            "text/plain": [
              "(2    264962\n",
              " 1     52311\n",
              " Name: VendorID, dtype: int64,\n",
              " 1.0    309087\n",
              " 5.0      7172\n",
              " 2.0       620\n",
              " 4.0       263\n",
              " 3.0       130\n",
              " 6.0         1\n",
              " Name: RatecodeID, dtype: int64,\n",
              " 1.0    273446\n",
              " 2.0     23121\n",
              " 5.0      9178\n",
              " 3.0      4927\n",
              " 6.0      4809\n",
              " 4.0      1775\n",
              " 7.0         9\n",
              " 8.0         8\n",
              " Name: passenger_count, dtype: int64)"
            ]
          },
          "execution_count": 13,
          "metadata": {},
          "output_type": "execute_result"
        }
      ],
      "execution_count": 13
    },
    {
      "cell_type": "markdown",
      "source": "in addition to the issues identified in previous questions, another invalid data in the dataframe is negative total amounts which shouldn't exist as if a trip is taken, then they should be charged an instance where negative data can work is if the passenger was refunded the money, but for analysis purposes, rows with negative totals can be dropped as well.",
      "metadata": {}
    },
    {
      "cell_type": "code",
      "source": "tripnew_df = tripnew_df[tripnew_df['total_amount'] >= 0]\ntripnew_df.loc[tripnew_df['total_amount'] < 0]",
      "metadata": {},
      "outputs": [
        {
          "data": {
            "text/html": [
              "<div>\n",
              "<style scoped>\n",
              "    .dataframe tbody tr th:only-of-type {\n",
              "        vertical-align: middle;\n",
              "    }\n",
              "\n",
              "    .dataframe tbody tr th {\n",
              "        vertical-align: top;\n",
              "    }\n",
              "\n",
              "    .dataframe thead th {\n",
              "        text-align: right;\n",
              "    }\n",
              "</style>\n",
              "<table border=\"1\" class=\"dataframe\">\n",
              "  <thead>\n",
              "    <tr style=\"text-align: right;\">\n",
              "      <th></th>\n",
              "      <th>VendorID</th>\n",
              "      <th>lpep_pickup_datetime</th>\n",
              "      <th>lpep_dropoff_datetime</th>\n",
              "      <th>store_and_fwd_flag</th>\n",
              "      <th>RatecodeID</th>\n",
              "      <th>PULocationID</th>\n",
              "      <th>DOLocationID</th>\n",
              "      <th>passenger_count</th>\n",
              "      <th>trip_distance</th>\n",
              "      <th>fare_amount</th>\n",
              "      <th>extra</th>\n",
              "      <th>mta_tax</th>\n",
              "      <th>tip_amount</th>\n",
              "      <th>tolls_amount</th>\n",
              "      <th>improvement_surcharge</th>\n",
              "      <th>total_amount</th>\n",
              "      <th>payment_type</th>\n",
              "      <th>trip_type</th>\n",
              "      <th>congestion_surcharge</th>\n",
              "    </tr>\n",
              "  </thead>\n",
              "  <tbody>\n",
              "  </tbody>\n",
              "</table>\n",
              "</div>"
            ],
            "text/plain": [
              "Empty DataFrame\n",
              "Columns: [VendorID, lpep_pickup_datetime, lpep_dropoff_datetime, store_and_fwd_flag, RatecodeID, PULocationID, DOLocationID, passenger_count, trip_distance, fare_amount, extra, mta_tax, tip_amount, tolls_amount, improvement_surcharge, total_amount, payment_type, trip_type, congestion_surcharge]\n",
              "Index: []"
            ]
          },
          "execution_count": 14,
          "metadata": {},
          "output_type": "execute_result"
        }
      ],
      "execution_count": 14
    },
    {
      "cell_type": "markdown",
      "source": "## 7. Data Analysis",
      "metadata": {}
    },
    {
      "cell_type": "code",
      "source": "# to find the most expensive trip, the index at which the highest total_amount occurs is found\nmax_index = tripnew_df['total_amount'].idxmax()\n\n# the index is then used to locate the lowest total_amount and the distance associated with it\ntripnew_df.loc[max_index]\n",
      "metadata": {},
      "outputs": [
        {
          "data": {
            "text/plain": [
              "VendorID                                   1\n",
              "lpep_pickup_datetime     2020-02-07 16:15:33\n",
              "lpep_dropoff_datetime    2020-02-07 16:27:18\n",
              "store_and_fwd_flag                         N\n",
              "RatecodeID                               1.0\n",
              "PULocationID                              25\n",
              "DOLocationID                              97\n",
              "passenger_count                          1.0\n",
              "trip_distance                            1.1\n",
              "fare_amount                              8.5\n",
              "extra                                    1.0\n",
              "mta_tax                                  0.5\n",
              "tip_amount                             641.2\n",
              "tolls_amount                             0.0\n",
              "improvement_surcharge                    0.3\n",
              "total_amount                           651.5\n",
              "payment_type                             1.0\n",
              "trip_type                                1.0\n",
              "congestion_surcharge                     0.0\n",
              "Name: 71544, dtype: object"
            ]
          },
          "execution_count": 15,
          "metadata": {},
          "output_type": "execute_result"
        }
      ],
      "execution_count": 15
    },
    {
      "cell_type": "markdown",
      "source": "The most expensive trip costed 651.5 and the distance covered was 1.1 miles. Even though the base fare amount was 8.5 dollars, the passenger tipped the driver 641.2 dollars that caused the trip to be so expensive for such a short ride.",
      "metadata": {}
    },
    {
      "cell_type": "code",
      "source": "# for the least expensive trip many trips have a total of 0 that have covered various distances\n# as I didn't account for this earlier, rows with total_amount of 0 can be disregarded\ntripnew_df = tripnew_df[tripnew_df['total_amount'] != 0]\n\n# the index with the lowest total_amount is found\nmin_index = tripnew_df['total_amount'].idxmin()\n\n# index is used to locate the lowest total_amount and the distance associated with it\ntripnew_df.loc[min_index]",
      "metadata": {},
      "outputs": [
        {
          "data": {
            "text/plain": [
              "VendorID                                   1\n",
              "lpep_pickup_datetime     2020-02-05 05:43:21\n",
              "lpep_dropoff_datetime    2020-02-05 05:56:09\n",
              "store_and_fwd_flag                         N\n",
              "RatecodeID                               5.0\n",
              "PULocationID                             220\n",
              "DOLocationID                             235\n",
              "passenger_count                          1.0\n",
              "trip_distance                            2.8\n",
              "fare_amount                             0.01\n",
              "extra                                    0.0\n",
              "mta_tax                                  0.0\n",
              "tip_amount                               0.0\n",
              "tolls_amount                             0.0\n",
              "improvement_surcharge                    0.0\n",
              "total_amount                            0.01\n",
              "payment_type                             2.0\n",
              "trip_type                                2.0\n",
              "congestion_surcharge                     0.0\n",
              "Name: 42264, dtype: object"
            ]
          },
          "execution_count": 16,
          "metadata": {},
          "output_type": "execute_result"
        }
      ],
      "execution_count": 16
    },
    {
      "cell_type": "markdown",
      "source": "The least expensive trip costed 0.01 dollars and traveled a distance of 2.8 miles. Even though this trip covered more distance than the most expensive trip, it only costed 1 cent and there was no extra or tax. From this we can infer that this trip was perhaps a test run of some sorts which is why it wasn't charged fully.",
      "metadata": {}
    },
    {
      "cell_type": "markdown",
      "source": "## 8. Data Visualization",
      "metadata": {}
    },
    {
      "cell_type": "code",
      "source": "tripnew_df.shape",
      "metadata": {},
      "outputs": [
        {
          "data": {
            "text/plain": [
              "(315280, 19)"
            ]
          },
          "execution_count": 17,
          "metadata": {},
          "output_type": "execute_result"
        }
      ],
      "execution_count": 17
    },
    {
      "cell_type": "code",
      "source": "tripnew_df['trip_type'].value_counts().plot(kind='bar', \n                                            title = \"Ways New Yorker's hail a cab\", \n                                            xlabel=\"trip type\", \n                                            ylabel=\"Count\")\n",
      "metadata": {},
      "outputs": [
        {
          "data": {
            "text/plain": [
              "<Axes: title={'center': \"Ways New Yorker's hail a cab\"}, xlabel='trip type', ylabel='Count'>"
            ]
          },
          "execution_count": 18,
          "metadata": {},
          "output_type": "execute_result"
        },
        {
          "data": {
            "image/png": "[encoded data removed]",
            "text/plain": [
              "<Figure size 640x480 with 1 Axes>"
            ]
          },
          "metadata": {},
          "output_type": "display_data"
        }
      ],
      "execution_count": 18
    },
    {
      "cell_type": "markdown",
      "source": "Trip type is a code indicating whether the trip was a street-hail or a dispatch that is automatically assigned. 1 represents street-hail and 2 represents dispatch. From the bar chart above, it is clear that street hail is the most common way New Yorkers request a cab compared to a dispatch. ",
      "metadata": {}
    },
    {
      "cell_type": "code",
      "source": "top5 = tripnew_df['DOLocationID'].value_counts().head(5)\ntop5.plot(kind='bar',\n         title = \"Top 5 Drop off Location IDs\", \n          xlabel=\"Location ID\", \n          ylabel=\"Count\")",
      "metadata": {},
      "outputs": [
        {
          "data": {
            "text/plain": [
              "<Axes: title={'center': 'Top 5 Drop off Location IDs'}, xlabel='Location ID', ylabel='Count'>"
            ]
          },
          "execution_count": 19,
          "metadata": {},
          "output_type": "execute_result"
        },
        {
          "data": {
            "image/png": "[encoded data removed]",
            "text/plain": [
              "<Figure size 640x480 with 1 Axes>"
            ]
          },
          "metadata": {},
          "output_type": "display_data"
        }
      ],
      "execution_count": 19
    },
    {
      "cell_type": "markdown",
      "source": "The above bar chart shows the top 5 most common drop-off location ids, which is the TLC Taxi Zone in which the taximeter was disengaged. Upon further research, the location IDs correspond to these locations: the most common drop-off location is East Harlem North, second is Central Harlem North, third is Central Harlem, next is East Harlem South, and last is Jackson Heights. This data makes sense as many people probably take a train to Harlem (which is a popular area in Manhattan) and they would probably hail a cab to get around. Additionally, there are a bunch of colleges in this area, so it increases traffic.",
      "metadata": {}
    },
    {
      "cell_type": "markdown",
      "source": "## 9. Findings",
      "metadata": {}
    },
    {
      "cell_type": "markdown",
      "source": "Based on the analysis conducted so far, this data many not be the most vaiable source to understand how New Yorkers use these taxis. Firstly, this data had a lot of missing values that needed to be shaved off, which reduced the size of the dataframe. Additionally, it also contained a lot of invalid data that also had to be dropped. Because of the poor quality of data, it would require a lot of cleaning in order for it to be actually useful. Even then, too much data would be lost which would lower the accuracy of the results. ",
      "metadata": {}
    }
  ]
}